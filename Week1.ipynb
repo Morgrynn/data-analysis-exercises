{
 "cells": [
  {
   "cell_type": "code",
   "execution_count": 1,
   "id": "b4f4f2ef",
   "metadata": {},
   "outputs": [],
   "source": [
    "### Load in NumPy\n",
    "import numpy as np"
   ]
  },
  {
   "cell_type": "code",
   "execution_count": 36,
   "id": "a6dea33d",
   "metadata": {},
   "outputs": [
    {
     "name": "stdout",
     "output_type": "stream",
     "text": [
      "First array:\n",
      "[[12 15 19 11]\n",
      " [16 20 11 20]\n",
      " [14 17 11 18]]\n",
      "Second array:\n",
      "[[10 11 12 13]\n",
      " [14 15 16 17]\n",
      " [18 19 20 21]]\n"
     ]
    }
   ],
   "source": [
    "# 1. Write a NumPy program to create a 3x4 matrix filled with values from 10 to 21.\n",
    "a = np.random.randint(10,22, size=(3,4))\n",
    "\n",
    "b = np.arange(10,22).reshape((3,4))\n",
    "\n",
    "print(\"First array:\")\n",
    "print(a)\n",
    "print(\"Second array:\")\n",
    "print(b)"
   ]
  },
  {
   "cell_type": "code",
   "execution_count": 17,
   "id": "6e568eda",
   "metadata": {},
   "outputs": [
    {
     "name": "stdout",
     "output_type": "stream",
     "text": [
      "Original array:\n",
      "[1 2 3 4]\n",
      "Test if none of the elements of the said array is zero:\n",
      "True\n",
      "Original array:\n",
      "[0 1 2 3]\n",
      "Test if none of the elements of the said array is zero:\n",
      "False\n",
      "[0 1 2 3 4 5 6 7 8 9]\n",
      "Test if none of the elements of the said array is zero:\n",
      "False\n",
      "[1 2 3 4 5 6 7 8 9]\n",
      "Test if none of the elements of the said array is zero:\n",
      "True\n"
     ]
    }
   ],
   "source": [
    "# 2. Write a NumPy program to test whether none of the elements of a given array is zero.\n",
    "x = np.array([1,2,3,4])\n",
    "print(\"Original array:\")\n",
    "print(x)\n",
    "print(\"Test if none of the elements of the said array is zero:\")\n",
    "print(np.all(x))\n",
    "x = np.array([0,1,2,3])\n",
    "print(\"Original array:\")\n",
    "print(x)\n",
    "print(\"Test if none of the elements of the said array is zero:\")\n",
    "print(np.all(x))\n",
    "\n",
    "arr1 = np.arange(10)\n",
    "print(arr1)\n",
    "print(\"Test if none of the elements of the said array is zero:\")\n",
    "print(np.all(arr1))\n",
    "arr1 > 0\n",
    "arr2 = arr1[arr1 > 0]\n",
    "print(arr2)\n",
    "print(\"Test if none of the elements of the said array is zero:\")\n",
    "print(np.all(arr2))\n",
    "\n",
    "#arr_1 = np.arange(10)\n",
    "#print(arr_1)\n",
    "#arr_1.any()\n",
    "#\n",
    "#arr_1.all()\n",
    "\n"
   ]
  },
  {
   "cell_type": "code",
   "execution_count": 39,
   "id": "474d2d06",
   "metadata": {},
   "outputs": [
    {
     "name": "stdout",
     "output_type": "stream",
     "text": [
      "[  1   7  13 105]\n",
      "4\n",
      "4\n",
      "16 bytes\n",
      "16 bytes\n"
     ]
    }
   ],
   "source": [
    "# 3. Write a NumPy program to create an array with the values 1, 7, 13, 105 and determine the size of the memory occupied by the array. \n",
    "a = np.array([1,7,13,105])\n",
    "print(a)\n",
    "# Count the number of elements along a given axis.\n",
    "print(a.size)\n",
    "\n",
    "# Return the length of one array element in bytes\n",
    "print(a.itemsize)\n",
    "\n",
    "# Return total bytes consumed by elements of the array\n",
    "print(\"%d bytes\" % (a.nbytes))\n",
    "\n",
    "# Determine the size of memory occupied by the array\n",
    "print(\"%d bytes\" % (a.size * a.itemsize))\n"
   ]
  },
  {
   "cell_type": "code",
   "execution_count": 37,
   "id": "90240591",
   "metadata": {},
   "outputs": [
    {
     "name": "stdout",
     "output_type": "stream",
     "text": [
      "[[50 50 52 32 48 53 64 47 32 66 30]\n",
      " [30 47 67 33 38 34 39 65 36 59 55]\n",
      " [30 69 53 44 67 53 46 51 44 66 37]\n",
      " [70 45 45 65 42 39 51 53 40 32 64]]\n",
      "\n",
      "\n",
      "[30 31 32 33 34 35 36 37 38 39 40 41 42 43 44 45 46 47 48 49 50 51 52 53\n",
      " 54 55 56 57 58 59 60 61 62 63 64 65 66 67 68 69 70]\n"
     ]
    }
   ],
   "source": [
    "# 4.Write a NumPy program to create an array of the integers from 30 to70.\n",
    "a = np.random.randint(30,71, size=(4,11))\n",
    "print(a)\n",
    "print(\"\\n\")\n",
    "b = np.arange(30,71)\n",
    "print(b)"
   ]
  },
  {
   "cell_type": "code",
   "execution_count": 41,
   "id": "ced33bd6",
   "metadata": {},
   "outputs": [
    {
     "name": "stdout",
     "output_type": "stream",
     "text": [
      "Normal array [ 0  1  2  3  4  5  6  7  8  9 10 11 12 13 14 15 16 17 18 19 20 21 22 23\n",
      " 24 25 26 27 28 29 30]\n",
      "Reverse array [30 29 28 27 26 25 24 23 22 21 20 19 18 17 16 15 14 13 12 11 10  9  8  7\n",
      "  6  5  4  3  2  1  0]\n"
     ]
    }
   ],
   "source": [
    "# 5.Write a NumPy program to reverse an array (first element becomes last).\n",
    "b = np.arange(0,31)\n",
    "print(\"Normal array\", str(b))\n",
    "\n",
    "c = b[::-1]\n",
    "print(\"Reverse array\", str(c))\n"
   ]
  },
  {
   "cell_type": "code",
   "execution_count": 42,
   "id": "d2882732",
   "metadata": {},
   "outputs": [
    {
     "name": "stdout",
     "output_type": "stream",
     "text": [
      "[ 3  5  6  9 10 12 15 18 20 21 24 25 27 30 33 35 36 39 40 42 45 48 50 51\n",
      " 54 55 57 60 63 65 66 69 70 72 75 78 80 81 84 85 87 90 93 95 96 99]\n",
      "2318\n"
     ]
    }
   ],
   "source": [
    "# 6. Write a NumPy program (using numpy) to sum of all the multiples of 3 or 5 below 100. \n",
    "# Expected Output:\n",
    "# [ 3 5 6 9 10 12 15 18 20 21 24 25 27 30 33 35 36 39 40 42 45 48 50 51 54\n",
    "# 55 57 60 63 65 66 69 70 72 75 78 80 81 84 85 87 90 93 95 96 99]\n",
    "# 2318 \n",
    "\n",
    "a = np.arange(1,100)\n",
    "\n",
    "# find multiple of 3 or 5\n",
    "b = a[(a % 3 == 0) | (a % 5 == 0)]\n",
    "print(b[:1000])\n",
    "\n",
    "# Returns the sum of array elements over the specified axis\n",
    "print(b.sum())"
   ]
  },
  {
   "cell_type": "code",
   "execution_count": 47,
   "id": "4458e9ad",
   "metadata": {},
   "outputs": [
    {
     "name": "stdout",
     "output_type": "stream",
     "text": [
      "Add two arrays:\n",
      "[[20 39 33]\n",
      " [25 25 28]]\n",
      "square root of result:\n",
      "[[4.47213595 6.244998   5.74456265]\n",
      " [5.         5.         5.29150262]]\n"
     ]
    }
   ],
   "source": [
    "# 7. Add the following two NumPy arrays and Modify a result array by calculating the square root of each element\n",
    "#    arrayOne = numpy.array([[5, 6, 9], [21 ,18, 27]])\n",
    "#    arrayTwo = numpy.array([[15 ,33, 24], [4 ,7, 1]])\n",
    "\n",
    "arrayOne = np.array([[5, 6, 9], [21 ,18, 27]])\n",
    "arrayTwo = np.array([[15 ,33, 24], [4 ,7, 1]])\n",
    "result = arrayOne + arrayTwo\n",
    "print(\"Add two arrays:\")\n",
    "print(result)\n",
    "print(\"square root of result:\")\n",
    "print(np.sqrt(result))\n",
    "\n"
   ]
  },
  {
   "cell_type": "code",
   "execution_count": 50,
   "id": "678f1570",
   "metadata": {},
   "outputs": [
    {
     "name": "stdout",
     "output_type": "stream",
     "text": [
      "[[100 110]\n",
      " [120 130]\n",
      " [140 150]\n",
      " [160 170]\n",
      " [180 190]]\n"
     ]
    }
   ],
   "source": [
    "# 8. Create a 5X2 integer array from a range between 100 to 200 such that the difference between each element is 10\n",
    "a = np.arange(100,200,10).reshape((5,2))\n",
    "print(a)"
   ]
  },
  {
   "cell_type": "code",
   "execution_count": 61,
   "id": "e0edbb28",
   "metadata": {},
   "outputs": [
    {
     "name": "stdout",
     "output_type": "stream",
     "text": [
      "2d array :\n",
      " [[34 43 73]\n",
      " [82 22 12]\n",
      " [53 94 66]]\n",
      "\n",
      "max :  [82 94 73]\n",
      "\n",
      "min :  [34 12 53]\n"
     ]
    }
   ],
   "source": [
    "# 9. Following is the 2-D array. Print max from axis 0 and min from axis 1\n",
    "#    sampleArray = numpy.array([[34,43,73],[82,22,12],[53,94,66]])\n",
    "\n",
    "a = np.array([[34,43,73],[82,22,12],[53,94,66]])\n",
    "print(\"2d array :\\n\", a)\n",
    "\n",
    "# The numpy.amax() method returns the maximum of an array or maximum along the axis(if mentioned).\n",
    "max = np.amax(a,axis=0)\n",
    "print(\"\\nmax : \", max)\n",
    "\n",
    "# The numpy.amin() function returns minimum of an array or minimum along axis(if mentioned).\n",
    "min = np.amin(a, axis=1)\n",
    "print(\"\\nmin : \", min)\n",
    "\n"
   ]
  },
  {
   "cell_type": "code",
   "execution_count": 79,
   "id": "7916969d",
   "metadata": {},
   "outputs": [
    {
     "name": "stdout",
     "output_type": "stream",
     "text": [
      "\n",
      "Specific element [1,1]:  22\n",
      "\n",
      "Specific row: [82 22 12]\n",
      "\n",
      "Specific col: [43 22 94]\n",
      "Sort by second row:\n",
      " [[73 43 34]\n",
      " [12 22 82]\n",
      " [66 94 53]]\n",
      "Sort by second col:\n",
      " [[82 22 12]\n",
      " [34 43 73]\n",
      " [53 94 66]]\n"
     ]
    }
   ],
   "source": [
    "# 10. Sort following NumPy array\n",
    "#    by the second row and\n",
    "#    by the second column\n",
    "#    sampleArray = numpy.array([[34,43,73],[82,22,12],[53,94,66]])\n",
    "\n",
    "a = np.array([[34,43,73],[82,22,12],[53,94,66]])\n",
    "\n",
    "# Get a specific element [row, column]\n",
    "el = a[1,1]\n",
    "print(\"\\nSpecific element [1,1]: \", el)\n",
    "\n",
    "#Get a specific row\n",
    "row = a[1,:]\n",
    "print(\"\\nSpecific row:\", row)\n",
    "\n",
    "#Get a specific column\n",
    "col = a[:,1]\n",
    "print(\"\\nSpecific col:\", col)\n",
    "\n",
    "# function is used to perform an indirect sort along the given axis \n",
    "# using the algorithm specified by the kind keyword. It returns an array of \n",
    "# indices of the same shape as arr that that would sort the array.\n",
    "sortRow = a[:,row.argsort()]\n",
    "print(\"Sort by second row:\\n\", sortRow)\n",
    "\n",
    "\n",
    "sortCol = a[col.argsort()]\n",
    "print(\"Sort by second col:\\n\", sortCol)\n",
    "\n",
    "\n"
   ]
  }
 ],
 "metadata": {
  "kernelspec": {
   "display_name": "Python 3",
   "language": "python",
   "name": "python3"
  },
  "language_info": {
   "codemirror_mode": {
    "name": "ipython",
    "version": 3
   },
   "file_extension": ".py",
   "mimetype": "text/x-python",
   "name": "python",
   "nbconvert_exporter": "python",
   "pygments_lexer": "ipython3",
   "version": "3.8.8"
  }
 },
 "nbformat": 4,
 "nbformat_minor": 5
}
